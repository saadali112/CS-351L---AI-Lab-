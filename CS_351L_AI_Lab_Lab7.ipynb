{
  "cells": [
    {
      "cell_type": "markdown",
      "source": [
        "# **CS 351L - AI Lab**\n",
        "\n",
        "## **Instructor: Mr. Usama Arshad, PhD CS**\n",
        "### **BS Cybersecurity - 5th Semester**\n",
        "\n",
        "---\n",
        "\n",
        "### **Welcome to the AI Lab Course!**\n",
        "\n",
        "In this lab, we will explore various concepts in Artificial Intelligence (AI), focusing on practical implementations using Python. You will work on hands-on exercises and projects that will help you understand AI techniques, algorithms, and tools commonly used in the field of AI and cybersecurity.\n",
        "\n",
        "### **Course Overview:**\n",
        "- **Course Code:** CS 351L\n",
        "- **Program:** BS Cybersecurity\n",
        "- **Semester:** 5th\n",
        "\n",
        "---\n",
        "\n",
        "\n",
        "\n",
        "### **CS 351L - AI Lab - Lab 7**\n",
        "\n",
        "\n",
        "---\n",
        "\n",
        "### **Learning Objectives:**\n",
        "\n",
        "By the end of this lab, students will be able to:\n",
        "\n",
        "1. Understand the concepts of feature selection and dimensionality reduction.\n",
        "2. Learn the significance of feature selection in improving model performance and interpretability.\n",
        "3. Implement statistical feature selection techniques using ANOVA F-Value in Python.\n",
        "4. Explore and apply Principal Component Analysis (PCA) for dimensionality reduction.\n",
        "5. Visualize PCA-transformed data and compare it with the original feature space.\n",
        "\n",
        "\n",
        "---\n",
        "\n",
        "### **Let's get started!**\n",
        "\n",
        "![Alt Text](https://cdn.dribbble.com/users/1523313/screenshots/16134521/media/3975730626bdae63cf9b25d3b634bac3.gif)\n"
      ],
      "metadata": {
        "id": "pkDc1zaLkNM-"
      },
      "id": "pkDc1zaLkNM-"
    },
    {
      "cell_type": "markdown",
      "id": "852684c8",
      "metadata": {
        "id": "852684c8"
      },
      "source": [
        "\n",
        "# **Lab 7: Feature Selection - Importance and Techniques**\n",
        "\n",
        "### **Introduction**\n",
        "Feature selection is a crucial step in machine learning pipelines, aiming to improve model performance by reducing dimensionality,\n",
        "removing irrelevant features, and minimizing overfitting. This lab focuses on implementing feature selection techniques in Python\n",
        "and using **Principal Component Analysis (PCA)** for dimensionality reduction.\n",
        "\n",
        "---\n",
        "\n",
        "## **Steps in Feature Selection**\n",
        "1. **Understand the dataset**: Analyze the data for correlations and feature importance.\n",
        "2. **Apply Feature Selection**: Select the most relevant features using statistical and machine learning methods.\n",
        "3. **Dimensionality Reduction using PCA**: Transform high-dimensional data into lower dimensions while retaining variance.\n",
        "\n",
        "---\n",
        "    "
      ]
    },
    {
      "cell_type": "markdown",
      "id": "88606310",
      "metadata": {
        "id": "88606310"
      },
      "source": [
        "## **Importing Libraries**\n",
        "Run the following cell to import necessary libraries:"
      ]
    },
    {
      "cell_type": "code",
      "execution_count": 6,
      "id": "61e547b0",
      "metadata": {
        "id": "61e547b0"
      },
      "outputs": [],
      "source": [
        "\n",
        "# Importing Libraries\n",
        "import numpy as np\n",
        "import pandas as pd\n",
        "from sklearn.datasets import load_iris\n",
        "from sklearn.decomposition import PCA\n",
        "from sklearn.feature_selection import SelectKBest, f_classif\n",
        "import matplotlib.pyplot as plt\n",
        "import seaborn as sns\n",
        "\n",
        "# Settings for visualizations\n",
        "sns.set(style=\"whitegrid\")\n",
        ""
      ]
    },
    {
      "cell_type": "markdown",
      "id": "25969aaf",
      "metadata": {
        "id": "25969aaf"
      },
      "source": [
        "\n",
        "## **Step 1: Load and Explore the Dataset**\n",
        "We will use the **Iris Dataset** as an example.\n",
        "    "
      ]
    },
    {
      "cell_type": "code",
      "execution_count": 7,
      "id": "5807f831",
      "metadata": {
        "colab": {
          "base_uri": "https://localhost:8080/"
        },
        "id": "5807f831",
        "outputId": "acd2eccd-f453-4f0a-8b37-b1dd46ba365a"
      },
      "outputs": [
        {
          "output_type": "stream",
          "name": "stdout",
          "text": [
            "Features:\n",
            "   sepal length (cm)  sepal width (cm)  petal length (cm)  petal width (cm)\n",
            "0                5.1               3.5                1.4               0.2\n",
            "1                4.9               3.0                1.4               0.2\n",
            "2                4.7               3.2                1.3               0.2\n",
            "3                4.6               3.1                1.5               0.2\n",
            "4                5.0               3.6                1.4               0.2\n",
            "\n",
            "Target:\n",
            "[0 0 0 0 0 0 0 0 0 0]\n"
          ]
        }
      ],
      "source": [
        "\n",
        "# Load the Iris dataset\n",
        "data = load_iris()\n",
        "X = pd.DataFrame(data.data, columns=data.feature_names)\n",
        "y = data.target\n",
        "\n",
        "# Display the first few rows\n",
        "print(\"Features:\")\n",
        "print(X.head())\n",
        "print(\"\\nTarget:\")\n",
        "print(y[:10])\n",
        ""
      ]
    },
    {
      "cell_type": "markdown",
      "id": "5812324c",
      "metadata": {
        "id": "5812324c"
      },
      "source": [
        "\n",
        "## **Step 2: Feature Selection using Statistical Methods**\n",
        "Select the top 2 features based on ANOVA F-Value.\n",
        "    "
      ]
    },
    {
      "cell_type": "code",
      "execution_count": 8,
      "id": "1f19df2d",
      "metadata": {
        "colab": {
          "base_uri": "https://localhost:8080/"
        },
        "id": "1f19df2d",
        "outputId": "8429d689-cada-4733-8df2-5d7acec74679"
      },
      "outputs": [
        {
          "output_type": "stream",
          "name": "stdout",
          "text": [
            "Selected Features Shape: (150, 2)\n",
            "Scores for each feature:\n",
            "sepal length (cm): 119.26\n",
            "sepal width (cm): 49.16\n",
            "petal length (cm): 1180.16\n",
            "petal width (cm): 960.01\n"
          ]
        }
      ],
      "source": [
        "\n",
        "# Select the top 2 features using ANOVA F-Value\n",
        "selector = SelectKBest(score_func=f_classif, k=2)\n",
        "X_new = selector.fit_transform(X, y)\n",
        "\n",
        "# Display the selected features\n",
        "print(\"Selected Features Shape:\", X_new.shape)\n",
        "print(\"Scores for each feature:\")\n",
        "for i, score in enumerate(selector.scores_):\n",
        "    print(f\"{X.columns[i]}: {score:.2f}\")\n",
        ""
      ]
    },
    {
      "cell_type": "markdown",
      "id": "decd059f",
      "metadata": {
        "id": "decd059f"
      },
      "source": [
        "\n",
        "## **Step 3: Dimensionality Reduction with PCA**\n",
        "Reduce the dataset to 2 dimensions for visualization.\n",
        "    "
      ]
    },
    {
      "cell_type": "code",
      "execution_count": 9,
      "id": "3671fa3f",
      "metadata": {
        "colab": {
          "base_uri": "https://localhost:8080/"
        },
        "id": "3671fa3f",
        "outputId": "70e5d193-bc08-43af-81eb-0800ed9c4324"
      },
      "outputs": [
        {
          "output_type": "stream",
          "name": "stdout",
          "text": [
            "Explained Variance Ratio: [0.92461872 0.05306648]\n"
          ]
        }
      ],
      "source": [
        "\n",
        "# Apply PCA to reduce dimensions to 2\n",
        "pca = PCA(n_components=2)\n",
        "X_pca = pca.fit_transform(X)\n",
        "\n",
        "# Display explained variance ratio\n",
        "print(\"Explained Variance Ratio:\", pca.explained_variance_ratio_)\n",
        ""
      ]
    },
    {
      "cell_type": "markdown",
      "id": "1fc73d73",
      "metadata": {
        "id": "1fc73d73"
      },
      "source": [
        "\n",
        "## **Step 4: Visualize PCA-transformed Data**\n",
        "Plot the PCA-transformed data in 2D.\n",
        "    "
      ]
    },
    {
      "cell_type": "code",
      "execution_count": 10,
      "id": "ab0160e0",
      "metadata": {
        "colab": {
          "base_uri": "https://localhost:8080/",
          "height": 573
        },
        "id": "ab0160e0",
        "outputId": "eff487a9-97a6-4939-8e02-97ac9804f263"
      },
      "outputs": [
        {
          "output_type": "display_data",
          "data": {
            "text/plain": [
              "<Figure size 800x600 with 1 Axes>"
            ],
            "image/png": "[encoded data removed]"
          },
          "metadata": {}
        }
      ],
      "source": [
        "\n",
        "# Plot the PCA-transformed data\n",
        "plt.figure(figsize=(8, 6))\n",
        "for i, target_name in enumerate(data.target_names):\n",
        "    plt.scatter(X_pca[y == i, 0], X_pca[y == i, 1], label=target_name)\n",
        "plt.title(\"PCA-Transformed Data\")\n",
        "plt.xlabel(\"Principal Component 1\")\n",
        "plt.ylabel(\"Principal Component 2\")\n",
        "plt.legend()\n",
        "plt.show()\n",
        ""
      ]
    },
    {
      "cell_type": "markdown",
      "id": "4bb07cbe",
      "metadata": {
        "id": "4bb07cbe"
      },
      "source": [
        "\n",
        "## **Step 5: Discussion and Results**\n",
        "- ANOVA Feature Selection identifies the most statistically significant features.\n",
        "- PCA reduces dimensionality while preserving most of the variance.\n",
        "- Feature selection techniques can improve model interpretability and performance.\n",
        "\n",
        "**Task**:\n",
        "1. Modify the code to apply PCA with 3 components.\n",
        "2. Use another dataset (e.g., Wine dataset) to repeat the steps.\n",
        "\n",
        "---\n",
        "    "
      ]
    }
  ],
  "metadata": {
    "colab": {
      "provenance": []
    },
    "language_info": {
      "name": "python"
    },
    "kernelspec": {
      "name": "python3",
      "display_name": "Python 3"
    }
  },
  "nbformat": 4,
  "nbformat_minor": 5
}