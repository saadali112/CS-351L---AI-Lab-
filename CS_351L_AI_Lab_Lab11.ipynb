{
  "nbformat": 4,
  "nbformat_minor": 5,
  "metadata": {
    "kernelspec": {
      "display_name": "Python 3",
      "language": "python",
      "name": "python3"
    },
    "language_info": {
      "name": "python",
      "version": "3.8"
    },
    "colab": {
      "provenance": []
    }
  },
  "cells": [
    {
      "cell_type": "markdown",
      "metadata": {
        "id": "ks-P_jM8XNmK"
      },
      "source": [
        "# Lab 11: Advanced Model Evaluation and Hyperparameter Tuning"
      ],
      "id": "ks-P_jM8XNmK"
    },
    {
      "cell_type": "markdown",
      "metadata": {
        "id": "roKCyb-MXNmM"
      },
      "source": [
        "In this lab, we will explore advanced techniques for evaluating machine learning models and optimizing their performance.\n",
        "\n",
        "**Learning Objectives:**\n",
        "- Understand and compute advanced model evaluation metrics beyond accuracy (e.g., precision, recall, F1-score, ROC-AUC).\n",
        "- Implement k-fold and stratified k-fold cross-validation to ensure robust model evaluation.\n",
        "- Perform hyperparameter tuning using Grid Search and Random Search."
      ],
      "id": "roKCyb-MXNmM"
    },
    {
      "cell_type": "markdown",
      "metadata": {
        "id": "GRCtLNzGXNmM"
      },
      "source": [
        "## Step 1: Import Libraries and Load Dataset"
      ],
      "id": "GRCtLNzGXNmM"
    },
    {
      "cell_type": "code",
      "metadata": {
        "colab": {
          "base_uri": "https://localhost:8080/"
        },
        "id": "864c3AX7XNmM",
        "outputId": "c41ca7c2-861b-4afb-b2b3-c1dc3797d222"
      },
      "execution_count": 1,
      "source": [
        "# Import required libraries\n",
        "import numpy as np\n",
        "import pandas as pd\n",
        "from sklearn.model_selection import train_test_split, KFold, StratifiedKFold, GridSearchCV, RandomizedSearchCV\n",
        "from sklearn.metrics import accuracy_score, precision_score, recall_score, f1_score, roc_auc_score, classification_report\n",
        "from sklearn.ensemble import RandomForestClassifier\n",
        "from sklearn.datasets import load_breast_cancer\n",
        "\n",
        "# Load the Breast Cancer dataset\n",
        "data = load_breast_cancer()\n",
        "X = data.data  # Features\n",
        "y = data.target  # Labels\n",
        "\n",
        "# Split into training and testing sets\n",
        "X_train, X_test, y_train, y_test = train_test_split(X, y, test_size=0.2, random_state=42, stratify=y)\n",
        "\n",
        "print(f\"Training samples: {X_train.shape[0]}, Testing samples: {X_test.shape[0]}\")"
      ],
      "id": "864c3AX7XNmM",
      "outputs": [
        {
          "output_type": "stream",
          "name": "stdout",
          "text": [
            "Training samples: 455, Testing samples: 114\n"
          ]
        }
      ]
    },
    {
      "cell_type": "markdown",
      "metadata": {
        "id": "bCDLDXWzXNmN"
      },
      "source": [
        "## Step 2: Evaluate Model with Advanced Metrics"
      ],
      "id": "bCDLDXWzXNmN"
    },
    {
      "cell_type": "code",
      "metadata": {
        "colab": {
          "base_uri": "https://localhost:8080/"
        },
        "id": "daoQj1cLXNmN",
        "outputId": "28cb4540-0049-4dc3-ec42-a584ffea984f"
      },
      "execution_count": 2,
      "source": [
        "# Train a simple Random Forest Classifier\n",
        "model = RandomForestClassifier(random_state=42)\n",
        "model.fit(X_train, y_train)\n",
        "\n",
        "# Predict on the test set\n",
        "y_pred = model.predict(X_test)\n",
        "y_proba = model.predict_proba(X_test)[:, 1]  # Probabilities for ROC-AUC\n",
        "\n",
        "# Calculate evaluation metrics\n",
        "accuracy = accuracy_score(y_test, y_pred)\n",
        "precision = precision_score(y_test, y_pred)\n",
        "recall = recall_score(y_test, y_pred)\n",
        "f1 = f1_score(y_test, y_pred)\n",
        "roc_auc = roc_auc_score(y_test, y_proba)\n",
        "\n",
        "print(f\"Accuracy: {accuracy:.2f}\")\n",
        "print(f\"Precision: {precision:.2f}\")\n",
        "print(f\"Recall: {recall:.2f}\")\n",
        "print(f\"F1 Score: {f1:.2f}\")\n",
        "print(f\"ROC-AUC Score: {roc_auc:.2f}\")\n",
        "\n",
        "# Display a detailed classification report\n",
        "print(\"\\nClassification Report:\\n\", classification_report(y_test, y_pred))"
      ],
      "id": "daoQj1cLXNmN",
      "outputs": [
        {
          "output_type": "stream",
          "name": "stdout",
          "text": [
            "Accuracy: 0.96\n",
            "Precision: 0.96\n",
            "Recall: 0.97\n",
            "F1 Score: 0.97\n",
            "ROC-AUC Score: 0.99\n",
            "\n",
            "Classification Report:\n",
            "               precision    recall  f1-score   support\n",
            "\n",
            "           0       0.95      0.93      0.94        42\n",
            "           1       0.96      0.97      0.97        72\n",
            "\n",
            "    accuracy                           0.96       114\n",
            "   macro avg       0.96      0.95      0.95       114\n",
            "weighted avg       0.96      0.96      0.96       114\n",
            "\n"
          ]
        }
      ]
    },
    {
      "cell_type": "markdown",
      "metadata": {
        "id": "biSjLUrRXNmN"
      },
      "source": [
        "## Step 3: Cross-Validation Techniques"
      ],
      "id": "biSjLUrRXNmN"
    },
    {
      "cell_type": "code",
      "metadata": {
        "colab": {
          "base_uri": "https://localhost:8080/"
        },
        "id": "6PYiHqv4XNmN",
        "outputId": "8273f0fb-15c8-44a6-aa8c-650047df7aac"
      },
      "execution_count": 3,
      "source": [
        "# Perform k-fold cross-validation\n",
        "kf = KFold(n_splits=5, shuffle=True, random_state=42)\n",
        "fold_accuracies = []\n",
        "\n",
        "for train_index, val_index in kf.split(X_train):\n",
        "    X_fold_train, X_fold_val = X_train[train_index], X_train[val_index]\n",
        "    y_fold_train, y_fold_val = y_train[train_index], y_train[val_index]\n",
        "\n",
        "    model = RandomForestClassifier(random_state=42)\n",
        "    model.fit(X_fold_train, y_fold_train)\n",
        "    y_fold_pred = model.predict(X_fold_val)\n",
        "    fold_accuracies.append(accuracy_score(y_fold_val, y_fold_pred))\n",
        "\n",
        "print(f\"K-Fold Cross-Validation Accuracies: {fold_accuracies}\")\n",
        "print(f\"Mean Accuracy: {np.mean(fold_accuracies):.2f}\")"
      ],
      "id": "6PYiHqv4XNmN",
      "outputs": [
        {
          "output_type": "stream",
          "name": "stdout",
          "text": [
            "K-Fold Cross-Validation Accuracies: [0.9340659340659341, 0.967032967032967, 0.967032967032967, 0.989010989010989, 0.9230769230769231]\n",
            "Mean Accuracy: 0.96\n"
          ]
        }
      ]
    },
    {
      "cell_type": "code",
      "metadata": {
        "colab": {
          "base_uri": "https://localhost:8080/"
        },
        "id": "HC-YXI8UXNmN",
        "outputId": "b8ad7fb6-a120-4e69-fe60-c55ce409dcc5"
      },
      "execution_count": 4,
      "source": [
        "# Perform stratified k-fold cross-validation\n",
        "skf = StratifiedKFold(n_splits=5, shuffle=True, random_state=42)\n",
        "stratified_accuracies = []\n",
        "\n",
        "for train_index, val_index in skf.split(X_train, y_train):\n",
        "    X_fold_train, X_fold_val = X_train[train_index], X_train[val_index]\n",
        "    y_fold_train, y_fold_val = y_train[train_index], y_train[val_index]\n",
        "\n",
        "    model = RandomForestClassifier(random_state=42)\n",
        "    model.fit(X_fold_train, y_fold_train)\n",
        "    y_fold_pred = model.predict(X_fold_val)\n",
        "    stratified_accuracies.append(accuracy_score(y_fold_val, y_fold_pred))\n",
        "\n",
        "print(f\"Stratified K-Fold Accuracies: {stratified_accuracies}\")\n",
        "print(f\"Mean Stratified Accuracy: {np.mean(stratified_accuracies):.2f}\")"
      ],
      "id": "HC-YXI8UXNmN",
      "outputs": [
        {
          "output_type": "stream",
          "name": "stdout",
          "text": [
            "Stratified K-Fold Accuracies: [0.967032967032967, 0.9560439560439561, 0.9340659340659341, 0.967032967032967, 0.989010989010989]\n",
            "Mean Stratified Accuracy: 0.96\n"
          ]
        }
      ]
    },
    {
      "cell_type": "markdown",
      "metadata": {
        "id": "DJOfxmiJXNmO"
      },
      "source": [
        "## Step 4: Hyperparameter Tuning"
      ],
      "id": "DJOfxmiJXNmO"
    },
    {
      "cell_type": "code",
      "metadata": {
        "colab": {
          "base_uri": "https://localhost:8080/"
        },
        "id": "inwH-QmqXNmO",
        "outputId": "cfbb75dd-9570-41bf-8781-397f7e80f5c0"
      },
      "execution_count": 5,
      "source": [
        "# Perform Grid Search for hyperparameter tuning\n",
        "param_grid = {\n",
        "    'n_estimators': [50, 100, 200],\n",
        "    'max_depth': [None, 10, 20],\n",
        "    'min_samples_split': [2, 5, 10]\n",
        "}\n",
        "\n",
        "grid_search = GridSearchCV(RandomForestClassifier(random_state=42), param_grid, cv=5, scoring='accuracy')\n",
        "grid_search.fit(X_train, y_train)\n",
        "\n",
        "print(\"Best Parameters from Grid Search:\", grid_search.best_params_)\n",
        "print(\"Best Cross-Validation Accuracy:\", grid_search.best_score_)"
      ],
      "id": "inwH-QmqXNmO",
      "outputs": [
        {
          "output_type": "stream",
          "name": "stdout",
          "text": [
            "Best Parameters from Grid Search: {'max_depth': None, 'min_samples_split': 2, 'n_estimators': 200}\n",
            "Best Cross-Validation Accuracy: 0.9604395604395606\n"
          ]
        }
      ]
    },
    {
      "cell_type": "code",
      "metadata": {
        "colab": {
          "base_uri": "https://localhost:8080/"
        },
        "id": "cNM0HQMDXNmO",
        "outputId": "a24dbf22-3ec3-4f6a-988f-91f487cfdf67"
      },
      "execution_count": 6,
      "source": [
        "# Perform Random Search for hyperparameter tuning\n",
        "param_dist = {\n",
        "    'n_estimators': [10, 50, 100, 200],\n",
        "    'max_depth': [None, 10, 20, 30],\n",
        "    'min_samples_split': [2, 5, 10, 15]\n",
        "}\n",
        "\n",
        "random_search = RandomizedSearchCV(RandomForestClassifier(random_state=42), param_dist, n_iter=10, cv=5, scoring='accuracy', random_state=42)\n",
        "random_search.fit(X_train, y_train)\n",
        "\n",
        "print(\"Best Parameters from Random Search:\", random_search.best_params_)\n",
        "print(\"Best Cross-Validation Accuracy:\", random_search.best_score_)"
      ],
      "id": "cNM0HQMDXNmO",
      "outputs": [
        {
          "output_type": "stream",
          "name": "stdout",
          "text": [
            "Best Parameters from Random Search: {'n_estimators': 50, 'min_samples_split': 5, 'max_depth': None}\n",
            "Best Cross-Validation Accuracy: 0.9582417582417584\n"
          ]
        }
      ]
    }
  ]
}